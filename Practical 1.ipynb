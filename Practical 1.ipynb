{
 "cells": [
  {
   "attachments": {},
   "cell_type": "markdown",
   "metadata": {},
   "source": [
    "# Warm-up"
   ]
  },
  {
   "cell_type": "code",
   "execution_count": 82,
   "metadata": {
    "dotnet_interactive": {
     "language": "fsharp"
    },
    "polyglot_notebook": {
     "kernelName": "fsharp"
    },
    "vscode": {
     "languageId": "polyglot-notebook"
    }
   },
   "outputs": [
    {
     "data": {
      "text/html": [
       "<div class=\"dni-plaintext\"><pre>18.9865</pre></div><style>\r\n",
       ".dni-code-hint {\r\n",
       "    font-style: italic;\r\n",
       "    overflow: hidden;\r\n",
       "    white-space: nowrap;\r\n",
       "}\r\n",
       ".dni-treeview {\r\n",
       "    white-space: nowrap;\r\n",
       "}\r\n",
       ".dni-treeview td {\r\n",
       "    vertical-align: top;\r\n",
       "    text-align: start;\r\n",
       "}\r\n",
       "details.dni-treeview {\r\n",
       "    padding-left: 1em;\r\n",
       "}\r\n",
       "table td {\r\n",
       "    text-align: start;\r\n",
       "}\r\n",
       "table tr { \r\n",
       "    vertical-align: top; \r\n",
       "    margin: 0em 0px;\r\n",
       "}\r\n",
       "table tr td pre \r\n",
       "{ \r\n",
       "    vertical-align: top !important; \r\n",
       "    margin: 0em 0px !important;\r\n",
       "} \r\n",
       "table th {\r\n",
       "    text-align: start;\r\n",
       "}\r\n",
       "</style>"
      ]
     },
     "metadata": {},
     "output_type": "display_data"
    }
   ],
   "source": [
    "(fun x -> 1.15 * x)16.51\n"
   ]
  },
  {
   "cell_type": "code",
   "execution_count": 83,
   "metadata": {
    "dotnet_interactive": {
     "language": "fsharp"
    },
    "polyglot_notebook": {
     "kernelName": "fsharp"
    },
    "vscode": {
     "languageId": "polyglot-notebook"
    }
   },
   "outputs": [
    {
     "data": {
      "text/html": [
       "<div class=\"dni-plaintext\"><pre>673.25</pre></div><style>\r\n",
       ".dni-code-hint {\r\n",
       "    font-style: italic;\r\n",
       "    overflow: hidden;\r\n",
       "    white-space: nowrap;\r\n",
       "}\r\n",
       ".dni-treeview {\r\n",
       "    white-space: nowrap;\r\n",
       "}\r\n",
       ".dni-treeview td {\r\n",
       "    vertical-align: top;\r\n",
       "    text-align: start;\r\n",
       "}\r\n",
       "details.dni-treeview {\r\n",
       "    padding-left: 1em;\r\n",
       "}\r\n",
       "table td {\r\n",
       "    text-align: start;\r\n",
       "}\r\n",
       "table tr { \r\n",
       "    vertical-align: top; \r\n",
       "    margin: 0em 0px;\r\n",
       "}\r\n",
       "table tr td pre \r\n",
       "{ \r\n",
       "    vertical-align: top !important; \r\n",
       "    margin: 0em 0px !important;\r\n",
       "} \r\n",
       "table th {\r\n",
       "    text-align: start;\r\n",
       "}\r\n",
       "</style>"
      ]
     },
     "metadata": {},
     "output_type": "display_data"
    }
   ],
   "source": [
    "(fun x -> (2.0 * x * x * x) + 1.0/4.0 * x * x - 5.0 * x + 10.0) <|7.0\n"
   ]
  },
  {
   "cell_type": "code",
   "execution_count": 84,
   "metadata": {
    "dotnet_interactive": {
     "language": "fsharp"
    },
    "polyglot_notebook": {
     "kernelName": "fsharp"
    },
    "vscode": {
     "languageId": "polyglot-notebook"
    }
   },
   "outputs": [
    {
     "data": {
      "text/html": [
       "<div class=\"dni-plaintext\"><pre>23</pre></div><style>\r\n",
       ".dni-code-hint {\r\n",
       "    font-style: italic;\r\n",
       "    overflow: hidden;\r\n",
       "    white-space: nowrap;\r\n",
       "}\r\n",
       ".dni-treeview {\r\n",
       "    white-space: nowrap;\r\n",
       "}\r\n",
       ".dni-treeview td {\r\n",
       "    vertical-align: top;\r\n",
       "    text-align: start;\r\n",
       "}\r\n",
       "details.dni-treeview {\r\n",
       "    padding-left: 1em;\r\n",
       "}\r\n",
       "table td {\r\n",
       "    text-align: start;\r\n",
       "}\r\n",
       "table tr { \r\n",
       "    vertical-align: top; \r\n",
       "    margin: 0em 0px;\r\n",
       "}\r\n",
       "table tr td pre \r\n",
       "{ \r\n",
       "    vertical-align: top !important; \r\n",
       "    margin: 0em 0px !important;\r\n",
       "} \r\n",
       "table th {\r\n",
       "    text-align: start;\r\n",
       "}\r\n",
       "</style>"
      ]
     },
     "metadata": {},
     "output_type": "display_data"
    }
   ],
   "source": [
    "(fun  x y -> x + y ) 20 3"
   ]
  },
  {
   "cell_type": "code",
   "execution_count": 85,
   "metadata": {
    "dotnet_interactive": {
     "language": "fsharp"
    },
    "polyglot_notebook": {
     "kernelName": "fsharp"
    },
    "vscode": {
     "languageId": "polyglot-notebook"
    }
   },
   "outputs": [
    {
     "data": {
      "text/html": [
       "<div class=\"dni-plaintext\"><pre>20</pre></div><style>\r\n",
       ".dni-code-hint {\r\n",
       "    font-style: italic;\r\n",
       "    overflow: hidden;\r\n",
       "    white-space: nowrap;\r\n",
       "}\r\n",
       ".dni-treeview {\r\n",
       "    white-space: nowrap;\r\n",
       "}\r\n",
       ".dni-treeview td {\r\n",
       "    vertical-align: top;\r\n",
       "    text-align: start;\r\n",
       "}\r\n",
       "details.dni-treeview {\r\n",
       "    padding-left: 1em;\r\n",
       "}\r\n",
       "table td {\r\n",
       "    text-align: start;\r\n",
       "}\r\n",
       "table tr { \r\n",
       "    vertical-align: top; \r\n",
       "    margin: 0em 0px;\r\n",
       "}\r\n",
       "table tr td pre \r\n",
       "{ \r\n",
       "    vertical-align: top !important; \r\n",
       "    margin: 0em 0px !important;\r\n",
       "} \r\n",
       "table th {\r\n",
       "    text-align: start;\r\n",
       "}\r\n",
       "</style>"
      ]
     },
     "metadata": {},
     "output_type": "display_data"
    }
   ],
   "source": [
    "(fun  x y -> x) 20 3"
   ]
  },
  {
   "cell_type": "code",
   "execution_count": 86,
   "metadata": {
    "dotnet_interactive": {
     "language": "fsharp"
    },
    "polyglot_notebook": {
     "kernelName": "fsharp"
    },
    "vscode": {
     "languageId": "polyglot-notebook"
    }
   },
   "outputs": [
    {
     "data": {
      "text/html": [
       "<details open=\"open\" class=\"dni-treeview\"><summary><span class=\"dni-code-hint\"><code>(3, 20)</code></span></summary><div><table><thead><tr></tr></thead><tbody><tr><td>Item1</td><td><div class=\"dni-plaintext\"><pre>3</pre></div></td></tr><tr><td>Item2</td><td><div class=\"dni-plaintext\"><pre>20</pre></div></td></tr></tbody></table></div></details><style>\r\n",
       ".dni-code-hint {\r\n",
       "    font-style: italic;\r\n",
       "    overflow: hidden;\r\n",
       "    white-space: nowrap;\r\n",
       "}\r\n",
       ".dni-treeview {\r\n",
       "    white-space: nowrap;\r\n",
       "}\r\n",
       ".dni-treeview td {\r\n",
       "    vertical-align: top;\r\n",
       "    text-align: start;\r\n",
       "}\r\n",
       "details.dni-treeview {\r\n",
       "    padding-left: 1em;\r\n",
       "}\r\n",
       "table td {\r\n",
       "    text-align: start;\r\n",
       "}\r\n",
       "table tr { \r\n",
       "    vertical-align: top; \r\n",
       "    margin: 0em 0px;\r\n",
       "}\r\n",
       "table tr td pre \r\n",
       "{ \r\n",
       "    vertical-align: top !important; \r\n",
       "    margin: 0em 0px !important;\r\n",
       "} \r\n",
       "table th {\r\n",
       "    text-align: start;\r\n",
       "}\r\n",
       "</style>"
      ]
     },
     "metadata": {},
     "output_type": "display_data"
    }
   ],
   "source": [
    "(fun (x, y) -> (y,x)) (20 , 3)\n"
   ]
  },
  {
   "cell_type": "code",
   "execution_count": 87,
   "metadata": {
    "dotnet_interactive": {
     "language": "fsharp"
    },
    "polyglot_notebook": {
     "kernelName": "fsharp"
    },
    "vscode": {
     "languageId": "polyglot-notebook"
    }
   },
   "outputs": [
    {
     "data": {
      "text/html": [
       "<div class=\"dni-plaintext\"><pre>2000</pre></div><style>\r\n",
       ".dni-code-hint {\r\n",
       "    font-style: italic;\r\n",
       "    overflow: hidden;\r\n",
       "    white-space: nowrap;\r\n",
       "}\r\n",
       ".dni-treeview {\r\n",
       "    white-space: nowrap;\r\n",
       "}\r\n",
       ".dni-treeview td {\r\n",
       "    vertical-align: top;\r\n",
       "    text-align: start;\r\n",
       "}\r\n",
       "details.dni-treeview {\r\n",
       "    padding-left: 1em;\r\n",
       "}\r\n",
       "table td {\r\n",
       "    text-align: start;\r\n",
       "}\r\n",
       "table tr { \r\n",
       "    vertical-align: top; \r\n",
       "    margin: 0em 0px;\r\n",
       "}\r\n",
       "table tr td pre \r\n",
       "{ \r\n",
       "    vertical-align: top !important; \r\n",
       "    margin: 0em 0px !important;\r\n",
       "} \r\n",
       "table th {\r\n",
       "    text-align: start;\r\n",
       "}\r\n",
       "</style>"
      ]
     },
     "metadata": {},
     "output_type": "display_data"
    }
   ],
   "source": [
    "(fun a -> a * 100) 20"
   ]
  },
  {
   "cell_type": "code",
   "execution_count": 88,
   "metadata": {
    "dotnet_interactive": {
     "language": "fsharp"
    },
    "polyglot_notebook": {
     "kernelName": "fsharp"
    },
    "vscode": {
     "languageId": "polyglot-notebook"
    }
   },
   "outputs": [
    {
     "data": {
      "text/html": [
       "<div class=\"dni-plaintext\"><pre>False</pre></div><style>\r\n",
       ".dni-code-hint {\r\n",
       "    font-style: italic;\r\n",
       "    overflow: hidden;\r\n",
       "    white-space: nowrap;\r\n",
       "}\r\n",
       ".dni-treeview {\r\n",
       "    white-space: nowrap;\r\n",
       "}\r\n",
       ".dni-treeview td {\r\n",
       "    vertical-align: top;\r\n",
       "    text-align: start;\r\n",
       "}\r\n",
       "details.dni-treeview {\r\n",
       "    padding-left: 1em;\r\n",
       "}\r\n",
       "table td {\r\n",
       "    text-align: start;\r\n",
       "}\r\n",
       "table tr { \r\n",
       "    vertical-align: top; \r\n",
       "    margin: 0em 0px;\r\n",
       "}\r\n",
       "table tr td pre \r\n",
       "{ \r\n",
       "    vertical-align: top !important; \r\n",
       "    margin: 0em 0px !important;\r\n",
       "} \r\n",
       "table th {\r\n",
       "    text-align: start;\r\n",
       "}\r\n",
       "</style>"
      ]
     },
     "metadata": {},
     "output_type": "display_data"
    }
   ],
   "source": [
    "(fun a b -> if b < a then true else false) 20 30"
   ]
  },
  {
   "cell_type": "code",
   "execution_count": 89,
   "metadata": {
    "dotnet_interactive": {
     "language": "fsharp"
    },
    "polyglot_notebook": {
     "kernelName": "fsharp"
    },
    "vscode": {
     "languageId": "polyglot-notebook"
    }
   },
   "outputs": [
    {
     "data": {
      "text/html": [
       "<div class=\"dni-plaintext\"><pre>1</pre></div><style>\r\n",
       ".dni-code-hint {\r\n",
       "    font-style: italic;\r\n",
       "    overflow: hidden;\r\n",
       "    white-space: nowrap;\r\n",
       "}\r\n",
       ".dni-treeview {\r\n",
       "    white-space: nowrap;\r\n",
       "}\r\n",
       ".dni-treeview td {\r\n",
       "    vertical-align: top;\r\n",
       "    text-align: start;\r\n",
       "}\r\n",
       "details.dni-treeview {\r\n",
       "    padding-left: 1em;\r\n",
       "}\r\n",
       "table td {\r\n",
       "    text-align: start;\r\n",
       "}\r\n",
       "table tr { \r\n",
       "    vertical-align: top; \r\n",
       "    margin: 0em 0px;\r\n",
       "}\r\n",
       "table tr td pre \r\n",
       "{ \r\n",
       "    vertical-align: top !important; \r\n",
       "    margin: 0em 0px !important;\r\n",
       "} \r\n",
       "table th {\r\n",
       "    text-align: start;\r\n",
       "}\r\n",
       "</style>"
      ]
     },
     "metadata": {},
     "output_type": "display_data"
    }
   ],
   "source": [
    "(fun a b -> a % b) 5 2"
   ]
  },
  {
   "cell_type": "code",
   "execution_count": 90,
   "metadata": {
    "dotnet_interactive": {
     "language": "fsharp"
    },
    "polyglot_notebook": {
     "kernelName": "fsharp"
    },
    "vscode": {
     "languageId": "polyglot-notebook"
    }
   },
   "outputs": [
    {
     "data": {
      "text/html": [
       "<details open=\"open\" class=\"dni-treeview\"><summary><span class=\"dni-code-hint\"><code>(23, 60, 17)</code></span></summary><div><table><thead><tr></tr></thead><tbody><tr><td>Item1</td><td><div class=\"dni-plaintext\"><pre>23</pre></div></td></tr><tr><td>Item2</td><td><div class=\"dni-plaintext\"><pre>60</pre></div></td></tr><tr><td>Item3</td><td><div class=\"dni-plaintext\"><pre>17</pre></div></td></tr></tbody></table></div></details><style>\r\n",
       ".dni-code-hint {\r\n",
       "    font-style: italic;\r\n",
       "    overflow: hidden;\r\n",
       "    white-space: nowrap;\r\n",
       "}\r\n",
       ".dni-treeview {\r\n",
       "    white-space: nowrap;\r\n",
       "}\r\n",
       ".dni-treeview td {\r\n",
       "    vertical-align: top;\r\n",
       "    text-align: start;\r\n",
       "}\r\n",
       "details.dni-treeview {\r\n",
       "    padding-left: 1em;\r\n",
       "}\r\n",
       "table td {\r\n",
       "    text-align: start;\r\n",
       "}\r\n",
       "table tr { \r\n",
       "    vertical-align: top; \r\n",
       "    margin: 0em 0px;\r\n",
       "}\r\n",
       "table tr td pre \r\n",
       "{ \r\n",
       "    vertical-align: top !important; \r\n",
       "    margin: 0em 0px !important;\r\n",
       "} \r\n",
       "table th {\r\n",
       "    text-align: start;\r\n",
       "}\r\n",
       "</style>"
      ]
     },
     "metadata": {},
     "output_type": "display_data"
    }
   ],
   "source": [
    "(fun a b -> (a + b , a * b , a - b)) 20 3"
   ]
  },
  {
   "cell_type": "code",
   "execution_count": 91,
   "metadata": {
    "dotnet_interactive": {
     "language": "fsharp"
    },
    "polyglot_notebook": {
     "kernelName": "fsharp"
    },
    "vscode": {
     "languageId": "polyglot-notebook"
    }
   },
   "outputs": [
    {
     "data": {
      "text/html": [
       "<div class=\"dni-plaintext\"><pre>3</pre></div><style>\r\n",
       ".dni-code-hint {\r\n",
       "    font-style: italic;\r\n",
       "    overflow: hidden;\r\n",
       "    white-space: nowrap;\r\n",
       "}\r\n",
       ".dni-treeview {\r\n",
       "    white-space: nowrap;\r\n",
       "}\r\n",
       ".dni-treeview td {\r\n",
       "    vertical-align: top;\r\n",
       "    text-align: start;\r\n",
       "}\r\n",
       "details.dni-treeview {\r\n",
       "    padding-left: 1em;\r\n",
       "}\r\n",
       "table td {\r\n",
       "    text-align: start;\r\n",
       "}\r\n",
       "table tr { \r\n",
       "    vertical-align: top; \r\n",
       "    margin: 0em 0px;\r\n",
       "}\r\n",
       "table tr td pre \r\n",
       "{ \r\n",
       "    vertical-align: top !important; \r\n",
       "    margin: 0em 0px !important;\r\n",
       "} \r\n",
       "table th {\r\n",
       "    text-align: start;\r\n",
       "}\r\n",
       "</style>"
      ]
     },
     "metadata": {},
     "output_type": "display_data"
    }
   ],
   "source": [
    "//Maxiimum function\n",
    "let maximum a b = if a > b then a else b\n",
    "maximum 0 3"
   ]
  },
  {
   "cell_type": "code",
   "execution_count": 92,
   "metadata": {
    "dotnet_interactive": {
     "language": "fsharp"
    },
    "polyglot_notebook": {
     "kernelName": "fsharp"
    },
    "vscode": {
     "languageId": "polyglot-notebook"
    }
   },
   "outputs": [
    {
     "data": {
      "text/html": [
       "<div class=\"dni-plaintext\"><pre>5</pre></div><style>\r\n",
       ".dni-code-hint {\r\n",
       "    font-style: italic;\r\n",
       "    overflow: hidden;\r\n",
       "    white-space: nowrap;\r\n",
       "}\r\n",
       ".dni-treeview {\r\n",
       "    white-space: nowrap;\r\n",
       "}\r\n",
       ".dni-treeview td {\r\n",
       "    vertical-align: top;\r\n",
       "    text-align: start;\r\n",
       "}\r\n",
       "details.dni-treeview {\r\n",
       "    padding-left: 1em;\r\n",
       "}\r\n",
       "table td {\r\n",
       "    text-align: start;\r\n",
       "}\r\n",
       "table tr { \r\n",
       "    vertical-align: top; \r\n",
       "    margin: 0em 0px;\r\n",
       "}\r\n",
       "table tr td pre \r\n",
       "{ \r\n",
       "    vertical-align: top !important; \r\n",
       "    margin: 0em 0px !important;\r\n",
       "} \r\n",
       "table th {\r\n",
       "    text-align: start;\r\n",
       "}\r\n",
       "</style>"
      ]
     },
     "metadata": {},
     "output_type": "display_data"
    }
   ],
   "source": [
    "//addUp function val int -> int -> int`\n",
    "let rec addUp x y = if x < y then x + addUp (x+1) y else y\n",
    "addUp 2 3"
   ]
  },
  {
   "cell_type": "code",
   "execution_count": 93,
   "metadata": {
    "dotnet_interactive": {
     "language": "fsharp"
    },
    "polyglot_notebook": {
     "kernelName": "fsharp"
    },
    "vscode": {
     "languageId": "polyglot-notebook"
    }
   },
   "outputs": [
    {
     "data": {
      "text/html": [
       "<div class=\"dni-plaintext\"><pre>-6</pre></div><style>\r\n",
       ".dni-code-hint {\r\n",
       "    font-style: italic;\r\n",
       "    overflow: hidden;\r\n",
       "    white-space: nowrap;\r\n",
       "}\r\n",
       ".dni-treeview {\r\n",
       "    white-space: nowrap;\r\n",
       "}\r\n",
       ".dni-treeview td {\r\n",
       "    vertical-align: top;\r\n",
       "    text-align: start;\r\n",
       "}\r\n",
       "details.dni-treeview {\r\n",
       "    padding-left: 1em;\r\n",
       "}\r\n",
       "table td {\r\n",
       "    text-align: start;\r\n",
       "}\r\n",
       "table tr { \r\n",
       "    vertical-align: top; \r\n",
       "    margin: 0em 0px;\r\n",
       "}\r\n",
       "table tr td pre \r\n",
       "{ \r\n",
       "    vertical-align: top !important; \r\n",
       "    margin: 0em 0px !important;\r\n",
       "} \r\n",
       "table th {\r\n",
       "    text-align: start;\r\n",
       "}\r\n",
       "</style>"
      ]
     },
     "metadata": {},
     "output_type": "display_data"
    }
   ],
   "source": [
    "let last n = n % 10 //this function simply returns the last digit using the % operator\n",
    "last -25496"
   ]
  },
  {
   "cell_type": "code",
   "execution_count": 94,
   "metadata": {
    "dotnet_interactive": {
     "language": "fsharp"
    },
    "polyglot_notebook": {
     "kernelName": "fsharp"
    },
    "vscode": {
     "languageId": "polyglot-notebook"
    }
   },
   "outputs": [
    {
     "data": {
      "text/html": [
       "<div class=\"dni-plaintext\"><pre>8</pre></div><style>\r\n",
       ".dni-code-hint {\r\n",
       "    font-style: italic;\r\n",
       "    overflow: hidden;\r\n",
       "    white-space: nowrap;\r\n",
       "}\r\n",
       ".dni-treeview {\r\n",
       "    white-space: nowrap;\r\n",
       "}\r\n",
       ".dni-treeview td {\r\n",
       "    vertical-align: top;\r\n",
       "    text-align: start;\r\n",
       "}\r\n",
       "details.dni-treeview {\r\n",
       "    padding-left: 1em;\r\n",
       "}\r\n",
       "table td {\r\n",
       "    text-align: start;\r\n",
       "}\r\n",
       "table tr { \r\n",
       "    vertical-align: top; \r\n",
       "    margin: 0em 0px;\r\n",
       "}\r\n",
       "table tr td pre \r\n",
       "{ \r\n",
       "    vertical-align: top !important; \r\n",
       "    margin: 0em 0px !important;\r\n",
       "} \r\n",
       "table th {\r\n",
       "    text-align: start;\r\n",
       "}\r\n",
       "</style>"
      ]
     },
     "metadata": {},
     "output_type": "display_data"
    }
   ],
   "source": [
    "// when dealing with negative inputs we have to return the number at the end only without the sign, so we:\n",
    "let rec last n =\n",
    "    if n >= 0 then \n",
    "        n % 10 \n",
    "    else \n",
    "        last (n * -1)\n",
    "last -888"
   ]
  },
  {
   "attachments": {},
   "cell_type": "markdown",
   "metadata": {},
   "source": [
    "Tests for `last`:"
   ]
  },
  {
   "cell_type": "code",
   "execution_count": 95,
   "metadata": {
    "dotnet_interactive": {
     "language": "fsharp"
    },
    "polyglot_notebook": {
     "kernelName": "fsharp"
    },
    "vscode": {
     "languageId": "polyglot-notebook"
    }
   },
   "outputs": [
    {
     "name": "stdout",
     "output_type": "stream",
     "text": [
      "All tests passed! 🥳\n"
     ]
    }
   ],
   "source": [
    "// Test number     Actual result               Expected result\n",
    "[ 1,               last 0,                     0\n",
    "  2,               last 10,                    0\n",
    "  3,               last 55,                    5\n",
    "  4,               last 103,                   3\n",
    "  5,               last -7,                    7\n",
    "  6,               last -8134,                 4\n",
    "]\n",
    "|> List.choose (fun (i, actual, expected) -> if actual = expected then None else Some (i, actual, expected))\n",
    "|> function [] -> printfn \"All tests passed! 🥳\" | xs -> List.iter (fun (i,a,e) -> printfn $\"Test #{i} failed: expected {e}, got {a}\") xs"
   ]
  },
  {
   "attachments": {},
   "cell_type": "markdown",
   "metadata": {},
   "source": [
    "**Imperative version** of **last**:"
   ]
  },
  {
   "cell_type": "code",
   "execution_count": 96,
   "metadata": {
    "dotnet_interactive": {
     "language": "csharp"
    },
    "polyglot_notebook": {
     "kernelName": "csharp"
    },
    "vscode": {
     "languageId": "polyglot-notebook"
    }
   },
   "outputs": [],
   "source": [
    "// imperative version, written in C#\n",
    "int imperative_last(int n) {\n",
    "    int result = n % 10; // this will \"get it wrong\", but that's okay.\n",
    "    if (result < 0) { // we check it and if it's wrong...\n",
    "        return -1 * result; // ...then we fix it up here!\n",
    "    }\n",
    "    return result;\n",
    "}"
   ]
  },
  {
   "cell_type": "code",
   "execution_count": 97,
   "metadata": {
    "dotnet_interactive": {
     "language": "fsharp"
    },
    "polyglot_notebook": {
     "kernelName": "fsharp"
    },
    "vscode": {
     "languageId": "polyglot-notebook"
    }
   },
   "outputs": [
    {
     "data": {
      "text/html": [
       "<details open=\"open\" class=\"dni-treeview\"><summary><span class=\"dni-code-hint\"><code>(2, 2, 2, 9, 2)</code></span></summary><div><table><thead><tr></tr></thead><tbody><tr><td>Item1</td><td><div class=\"dni-plaintext\"><pre>2</pre></div></td></tr><tr><td>Item2</td><td><div class=\"dni-plaintext\"><pre>2</pre></div></td></tr><tr><td>Item3</td><td><div class=\"dni-plaintext\"><pre>2</pre></div></td></tr><tr><td>Item4</td><td><div class=\"dni-plaintext\"><pre>9</pre></div></td></tr><tr><td>Item5</td><td><div class=\"dni-plaintext\"><pre>2</pre></div></td></tr></tbody></table></div></details><style>\r\n",
       ".dni-code-hint {\r\n",
       "    font-style: italic;\r\n",
       "    overflow: hidden;\r\n",
       "    white-space: nowrap;\r\n",
       "}\r\n",
       ".dni-treeview {\r\n",
       "    white-space: nowrap;\r\n",
       "}\r\n",
       ".dni-treeview td {\r\n",
       "    vertical-align: top;\r\n",
       "    text-align: start;\r\n",
       "}\r\n",
       "details.dni-treeview {\r\n",
       "    padding-left: 1em;\r\n",
       "}\r\n",
       "table td {\r\n",
       "    text-align: start;\r\n",
       "}\r\n",
       "table tr { \r\n",
       "    vertical-align: top; \r\n",
       "    margin: 0em 0px;\r\n",
       "}\r\n",
       "table tr td pre \r\n",
       "{ \r\n",
       "    vertical-align: top !important; \r\n",
       "    margin: 0em 0px !important;\r\n",
       "} \r\n",
       "table th {\r\n",
       "    text-align: start;\r\n",
       "}\r\n",
       "</style>"
      ]
     },
     "metadata": {},
     "output_type": "display_data"
    }
   ],
   "source": [
    "// Code for `first` goes here:\n",
    "let rec first n = \n",
    "    if n < 0 then     //if negative call the function again with the sign changed\n",
    "        first (n * -1)\n",
    "    elif  n < 10  then  // else if only one digit left, return that digit\n",
    "        n\n",
    "    else \n",
    "        first (n / 10 ) // else remove the rightmost digit \n",
    "\n",
    "\n",
    "(first 2356,\n",
    "first 2448,\n",
    "first  2,\n",
    "first 998,\n",
    "first -245)"
   ]
  },
  {
   "attachments": {},
   "cell_type": "markdown",
   "metadata": {},
   "source": [
    "Tests for `first`:"
   ]
  },
  {
   "cell_type": "code",
   "execution_count": 98,
   "metadata": {
    "dotnet_interactive": {
     "language": "fsharp"
    },
    "polyglot_notebook": {
     "kernelName": "fsharp"
    },
    "vscode": {
     "languageId": "polyglot-notebook"
    }
   },
   "outputs": [
    {
     "name": "stdout",
     "output_type": "stream",
     "text": [
      "All tests passed! 🥳\n"
     ]
    }
   ],
   "source": [
    "// Test number     Actual result               Expected result\n",
    "[ 1,               first 0,                    0\n",
    "  2,               first 10,                   1\n",
    "  3,               first 55,                   5\n",
    "  4,               first 103,                  1\n",
    "  5,               first -7,                   7\n",
    "  6,               first -8134,                8\n",
    "]\n",
    "|> List.choose (fun (i, actual, expected) -> if actual = expected then None else Some (i, actual, expected))\n",
    "|> function [] -> printfn \"All tests passed! 🥳\" | xs -> List.iter (fun (i,a,e) -> printfn $\"Test #{i} failed: expected {e}, got {a}\") xs"
   ]
  },
  {
   "cell_type": "code",
   "execution_count": 99,
   "metadata": {
    "dotnet_interactive": {
     "language": "fsharp"
    },
    "polyglot_notebook": {
     "kernelName": "fsharp"
    },
    "vscode": {
     "languageId": "polyglot-notebook"
    }
   },
   "outputs": [
    {
     "data": {
      "text/html": [
       "<details open=\"open\" class=\"dni-treeview\"><summary><span class=\"dni-code-hint\"><code>(4, 4, 1, 3, 3)</code></span></summary><div><table><thead><tr></tr></thead><tbody><tr><td>Item1</td><td><div class=\"dni-plaintext\"><pre>4</pre></div></td></tr><tr><td>Item2</td><td><div class=\"dni-plaintext\"><pre>4</pre></div></td></tr><tr><td>Item3</td><td><div class=\"dni-plaintext\"><pre>1</pre></div></td></tr><tr><td>Item4</td><td><div class=\"dni-plaintext\"><pre>3</pre></div></td></tr><tr><td>Item5</td><td><div class=\"dni-plaintext\"><pre>3</pre></div></td></tr></tbody></table></div></details><style>\r\n",
       ".dni-code-hint {\r\n",
       "    font-style: italic;\r\n",
       "    overflow: hidden;\r\n",
       "    white-space: nowrap;\r\n",
       "}\r\n",
       ".dni-treeview {\r\n",
       "    white-space: nowrap;\r\n",
       "}\r\n",
       ".dni-treeview td {\r\n",
       "    vertical-align: top;\r\n",
       "    text-align: start;\r\n",
       "}\r\n",
       "details.dni-treeview {\r\n",
       "    padding-left: 1em;\r\n",
       "}\r\n",
       "table td {\r\n",
       "    text-align: start;\r\n",
       "}\r\n",
       "table tr { \r\n",
       "    vertical-align: top; \r\n",
       "    margin: 0em 0px;\r\n",
       "}\r\n",
       "table tr td pre \r\n",
       "{ \r\n",
       "    vertical-align: top !important; \r\n",
       "    margin: 0em 0px !important;\r\n",
       "} \r\n",
       "table th {\r\n",
       "    text-align: start;\r\n",
       "}\r\n",
       "</style>"
      ]
     },
     "metadata": {},
     "output_type": "display_data"
    }
   ],
   "source": [
    "// code for length function\n",
    "let rec length n = \n",
    "    if n < 0 then\n",
    "        length (n * -1)\n",
    "    elif n < 10 then\n",
    "        1\n",
    "    else \n",
    "        1 + length(n / 10) (* this is where we actually are counting for the function returns one\n",
    "                            everytime so we recurse threw the digit removing a digit everytime whilst counting \n",
    "                            the times we move, uoltimatly finding the lenght *)\n",
    "\n",
    "\n",
    "(length 2356,\n",
    "length 2448,\n",
    "length  2,\n",
    "length 998,\n",
    "length -245)"
   ]
  },
  {
   "attachments": {},
   "cell_type": "markdown",
   "metadata": {},
   "source": [
    "Tests for `length`:"
   ]
  },
  {
   "cell_type": "code",
   "execution_count": 100,
   "metadata": {
    "dotnet_interactive": {
     "language": "fsharp"
    },
    "polyglot_notebook": {
     "kernelName": "fsharp"
    },
    "vscode": {
     "languageId": "polyglot-notebook"
    }
   },
   "outputs": [
    {
     "name": "stdout",
     "output_type": "stream",
     "text": [
      "All tests passed! 🥳\n"
     ]
    }
   ],
   "source": [
    "// Test number     Actual result               Expected result\n",
    "[ 1,               length 0,                   1\n",
    "  2,               length 10,                  2\n",
    "  3,               length 55,                  2\n",
    "  4,               length 103,                 3\n",
    "  5,               length -7,                  1\n",
    "  6,               length -8134,               4\n",
    "]\n",
    "|> List.choose (fun (i, actual, expected) -> if actual = expected then None else Some (i, actual, expected))\n",
    "|> function [] -> printfn \"All tests passed! 🥳\" | xs -> List.iter (fun (i,a,e) -> printfn $\"Test #{i} failed: expected {e}, got {a}\") xs"
   ]
  },
  {
   "cell_type": "code",
   "execution_count": 101,
   "metadata": {
    "dotnet_interactive": {
     "language": "fsharp"
    },
    "polyglot_notebook": {
     "kernelName": "fsharp"
    },
    "vscode": {
     "languageId": "polyglot-notebook"
    }
   },
   "outputs": [
    {
     "data": {
      "text/html": [
       "<details open=\"open\" class=\"dni-treeview\"><summary><span class=\"dni-code-hint\"><code>(1, 100, 10, 0, 1)</code></span></summary><div><table><thead><tr></tr></thead><tbody><tr><td>Item1</td><td><div class=\"dni-plaintext\"><pre>1</pre></div></td></tr><tr><td>Item2</td><td><div class=\"dni-plaintext\"><pre>100</pre></div></td></tr><tr><td>Item3</td><td><div class=\"dni-plaintext\"><pre>10</pre></div></td></tr><tr><td>Item4</td><td><div class=\"dni-plaintext\"><pre>0</pre></div></td></tr><tr><td>Item5</td><td><div class=\"dni-plaintext\"><pre>1</pre></div></td></tr></tbody></table></div></details><style>\r\n",
       ".dni-code-hint {\r\n",
       "    font-style: italic;\r\n",
       "    overflow: hidden;\r\n",
       "    white-space: nowrap;\r\n",
       "}\r\n",
       ".dni-treeview {\r\n",
       "    white-space: nowrap;\r\n",
       "}\r\n",
       ".dni-treeview td {\r\n",
       "    vertical-align: top;\r\n",
       "    text-align: start;\r\n",
       "}\r\n",
       "details.dni-treeview {\r\n",
       "    padding-left: 1em;\r\n",
       "}\r\n",
       "table td {\r\n",
       "    text-align: start;\r\n",
       "}\r\n",
       "table tr { \r\n",
       "    vertical-align: top; \r\n",
       "    margin: 0em 0px;\r\n",
       "}\r\n",
       "table tr td pre \r\n",
       "{ \r\n",
       "    vertical-align: top !important; \r\n",
       "    margin: 0em 0px !important;\r\n",
       "} \r\n",
       "table th {\r\n",
       "    text-align: start;\r\n",
       "}\r\n",
       "</style>"
      ]
     },
     "metadata": {},
     "output_type": "display_data"
    }
   ],
   "source": [
    "//what to do when we want to reverse a  string\n",
    "let rec multiplier n =\n",
    "    if n <= 1 then \n",
    "        1\n",
    "    else \n",
    "        10 * multiplier(n - 1)\n",
    " // this fuction just aids us tio shift decimal places by multiplies of 10\n",
    "(multiplier 1,\n",
    "multiplier 3,\n",
    "multiplier  2,\n",
    "multiplier 998,\n",
    "multiplier -245)\n"
   ]
  },
  {
   "cell_type": "code",
   "execution_count": 102,
   "metadata": {
    "dotnet_interactive": {
     "language": "fsharp"
    },
    "polyglot_notebook": {
     "kernelName": "fsharp"
    },
    "vscode": {
     "languageId": "polyglot-notebook"
    }
   },
   "outputs": [],
   "source": [
    "//reverse function\n",
    "let rec reverse n = \n",
    "    if n < 0 then\n",
    "        -1 * reverse(n * -1) (* efectively if we pipe in a negative number, we want to recall the function with its poisitive opposite. but the (-1 * rever..) allows us to restore the number when the recursion restors*) \n",
    "    elif n =  0 then\n",
    "        0\n",
    "    else \n",
    "        last n * ( n|> (length >> multiplier)) + reverse (n / 10) \n",
    "        (*effectively the last line takes the last digit and using the length of n adds \n",
    "          a multiplier so in a way adds the decimall position of the first digit to the last digit, then th\n",
    "        takes n again gets the last digit add the multiplier and calls reverse again \n",
    "        removing the last digit. this is way reverses a numbr by using the shift in poistiona\n",
    "        Values*)\n",
    "\n",
    "        (* so if 123 = 1*10*10 + 2*10 + 3 it revereses the digit by taking the last number\n",
    "        and using the length adds the mutiple of the total digit and calls back the function \n",
    "        removing the rightmost Digit e.g) 123 changes to 321 = 3*10*10 + 2*10 + 1 , horray number reversed*)"
   ]
  },
  {
   "attachments": {},
   "cell_type": "markdown",
   "metadata": {},
   "source": [
    "Tests for `reverse`:"
   ]
  },
  {
   "cell_type": "code",
   "execution_count": 103,
   "metadata": {
    "dotnet_interactive": {
     "language": "fsharp"
    },
    "polyglot_notebook": {
     "kernelName": "fsharp"
    },
    "vscode": {
     "languageId": "polyglot-notebook"
    }
   },
   "outputs": [
    {
     "name": "stdout",
     "output_type": "stream",
     "text": [
      "All tests passed! 🥳\n"
     ]
    }
   ],
   "source": [
    "// Test number     Actual result               Expected result\n",
    "[ 1,               reverse 0,                  0\n",
    "  2,               reverse 10,                 1\n",
    "  3,               reverse 55,                 55\n",
    "  4,               reverse 103,                301\n",
    "  5,               reverse -7,                 -7\n",
    "  6,               reverse -8134,              -4318\n",
    "]\n",
    "|> List.choose (fun (i, actual, expected) -> if actual = expected then None else Some (i, actual, expected))\n",
    "|> function [] -> printfn \"All tests passed! 🥳\" | xs -> List.iter (fun (i,a,e) -> printfn $\"Test #{i} failed: expected {e}, got {a}\") xs"
   ]
  },
  {
   "cell_type": "code",
   "execution_count": 104,
   "metadata": {
    "dotnet_interactive": {
     "language": "fsharp"
    },
    "polyglot_notebook": {
     "kernelName": "fsharp"
    },
    "vscode": {
     "languageId": "polyglot-notebook"
    }
   },
   "outputs": [
    {
     "data": {
      "text/html": [
       "<details open=\"open\" class=\"dni-treeview\"><summary><span class=\"dni-code-hint\"><code>(-1, 1, 0, 1, 9, 5, 3, 7, 0, 1)</code></span></summary><div><table><thead><tr></tr></thead><tbody><tr><td>Item1</td><td><div class=\"dni-plaintext\"><pre>-1</pre></div></td></tr><tr><td>Item2</td><td><div class=\"dni-plaintext\"><pre>1</pre></div></td></tr><tr><td>Item3</td><td><div class=\"dni-plaintext\"><pre>0</pre></div></td></tr><tr><td>Item4</td><td><div class=\"dni-plaintext\"><pre>1</pre></div></td></tr><tr><td>Item5</td><td><div class=\"dni-plaintext\"><pre>9</pre></div></td></tr><tr><td>Item6</td><td><div class=\"dni-plaintext\"><pre>5</pre></div></td></tr><tr><td>Item7</td><td><div class=\"dni-plaintext\"><pre>3</pre></div></td></tr><tr><td>Rest</td><td><details class=\"dni-treeview\"><summary><span class=\"dni-code-hint\"><code>(7, 0, 1)</code></span></summary><div><table><thead><tr></tr></thead><tbody><tr><td>Item1</td><td><div class=\"dni-plaintext\"><pre>7</pre></div></td></tr><tr><td>Item2</td><td><div class=\"dni-plaintext\"><pre>0</pre></div></td></tr><tr><td>Item3</td><td><div class=\"dni-plaintext\"><pre>1</pre></div></td></tr></tbody></table></div></details></td></tr></tbody></table></div></details><style>\r\n",
       ".dni-code-hint {\r\n",
       "    font-style: italic;\r\n",
       "    overflow: hidden;\r\n",
       "    white-space: nowrap;\r\n",
       "}\r\n",
       ".dni-treeview {\r\n",
       "    white-space: nowrap;\r\n",
       "}\r\n",
       ".dni-treeview td {\r\n",
       "    vertical-align: top;\r\n",
       "    text-align: start;\r\n",
       "}\r\n",
       "details.dni-treeview {\r\n",
       "    padding-left: 1em;\r\n",
       "}\r\n",
       "table td {\r\n",
       "    text-align: start;\r\n",
       "}\r\n",
       "table tr { \r\n",
       "    vertical-align: top; \r\n",
       "    margin: 0em 0px;\r\n",
       "}\r\n",
       "table tr td pre \r\n",
       "{ \r\n",
       "    vertical-align: top !important; \r\n",
       "    margin: 0em 0px !important;\r\n",
       "} \r\n",
       "table th {\r\n",
       "    text-align: start;\r\n",
       "}\r\n",
       "</style>"
      ]
     },
     "metadata": {},
     "output_type": "display_data"
    }
   ],
   "source": [
    "// finding the number at a specified Index\n",
    "//helper function\n",
    "\n",
    "let digitAt digit index =\n",
    "\n",
    "    let rec digitAtIndex num index = \n",
    "        if index = 0 then   \n",
    "            last num\n",
    "        else\n",
    "            digitAtIndex (num / 10) (index - 1)\n",
    "    //this function gerts tpo a specific position by removing the rightmost digit untiol we hit index = 0, and returns the last digit in that new digit\n",
    "    // digitAtIndex will onl work when digitAt is called\n",
    "\n",
    "    let len = length digit // temp binding to hold the length ogf the digit\n",
    "    if index < 0 || index >= len then \n",
    "        -1 // this is to makes us know we have reached an out of bounds error\n",
    "    else\n",
    "        digitAtIndex digit (len - index - 1)// index = calculate the distance from last digit to desired index\n",
    "\n",
    "(digitAt 123 2)\n",
    "(digitAt 0 1,               \n",
    "digitAt 10 0,               \n",
    "digitAt 10 1,               \n",
    "digitAt 97531 4,            \n",
    "digitAt 97531 0,            \n",
    "digitAt 97531 2,            \n",
    "digitAt 97531 3,            \n",
    "digitAt 97531 1,            \n",
    "digitAt 100 2,              \n",
    "digitAt -8134 1)"
   ]
  },
  {
   "attachments": {},
   "cell_type": "markdown",
   "metadata": {},
   "source": [
    "Tests for `digitAt`:"
   ]
  },
  {
   "cell_type": "code",
   "execution_count": 105,
   "metadata": {
    "dotnet_interactive": {
     "language": "fsharp"
    },
    "polyglot_notebook": {
     "kernelName": "fsharp"
    },
    "vscode": {
     "languageId": "polyglot-notebook"
    }
   },
   "outputs": [
    {
     "name": "stdout",
     "output_type": "stream",
     "text": [
      "All tests passed! 🥳\n"
     ]
    }
   ],
   "source": [
    "// Test number     Actual result               Expected result\n",
    "[ 1,               digitAt 0 1,                -1\n",
    "  2,               digitAt 10 0,               1\n",
    "  3,               digitAt 10 1,               0\n",
    "  4,               digitAt 97531 4,            1\n",
    "  5,               digitAt 97531 0,            9\n",
    "  6,               digitAt 97531 2,            5\n",
    "  7,               digitAt 97531 3,            3\n",
    "  8,               digitAt 97531 1,            7\n",
    "  9,               digitAt 100 2,              0\n",
    "  10,              digitAt -8134 1,            1\n",
    "]\n",
    "|> List.choose (fun (i, actual, expected) -> if actual = expected then None else Some (i, actual, expected))\n",
    "|> function [] -> printfn \"All tests passed! 🥳\" | xs -> List.iter (fun (i,a,e) -> printfn $\"Test #{i} failed: expected {e}, got {a}\") xs"
   ]
  },
  {
   "attachments": {},
   "cell_type": "markdown",
   "metadata": {},
   "source": [
    "# Practical 1\n",
    "\n",
    "A `seconds` function:"
   ]
  },
  {
   "cell_type": "code",
   "execution_count": 106,
   "metadata": {
    "dotnet_interactive": {
     "language": "fsharp"
    },
    "vscode": {
     "languageId": "polyglot-notebook"
    }
   },
   "outputs": [],
   "source": [
    "let seconds (hours, minutes, seconds) = hours * 3600 + minutes * 60 + seconds\n"
   ]
  },
  {
   "attachments": {},
   "cell_type": "markdown",
   "metadata": {},
   "source": [
    "Tests for `seconds`:"
   ]
  },
  {
   "cell_type": "code",
   "execution_count": 107,
   "metadata": {
    "dotnet_interactive": {
     "language": "fsharp"
    },
    "polyglot_notebook": {
     "kernelName": "fsharp"
    },
    "vscode": {
     "languageId": "polyglot-notebook"
    }
   },
   "outputs": [
    {
     "name": "stdout",
     "output_type": "stream",
     "text": [
      "All tests passed! 🥳\n"
     ]
    }
   ],
   "source": [
    "// Test number     Actual result               Expected result\n",
    "[ 1,               seconds (0, 0, 0),          0\n",
    "  2,               seconds (0, 0, 1),          1\n",
    "  3,               seconds (0, 1, 0),          60\n",
    "  4,               seconds (1, 0, 0),          3600\n",
    "  5,               seconds (1, 1, 1),          3661\n",
    "  6,               seconds (1, 2, 3),          3723\n",
    "  7,               seconds (2, 3, 4),          7384\n",
    "  8,               seconds (3, 4, 5),          11045\n",
    "  9,               seconds (4, 5, 6),          14706\n",
    "]\n",
    "|> List.choose (fun (i, actual, expected) -> if actual = expected then None else Some (i, actual, expected))\n",
    "|> function [] -> printfn \"All tests passed! 🥳\" | xs -> List.iter (fun (i,a,e) -> printfn $\"Test #{i} failed: expected {e}, got {a}\") xs"
   ]
  },
  {
   "attachments": {},
   "cell_type": "markdown",
   "metadata": {},
   "source": [
    "A `betterAddUp` function:"
   ]
  },
  {
   "cell_type": "code",
   "execution_count": 108,
   "metadata": {
    "dotnet_interactive": {
     "language": "fsharp"
    },
    "vscode": {
     "languageId": "polyglot-notebook"
    }
   },
   "outputs": [],
   "source": [
    "let rec betterAddUp x y = \n",
    "    if (maximum x y) = y then // check which number is the maximum first and according to that sorts the inputys to addUp function \n",
    "        addUp x y \n",
    "    else \n",
    "        addUp y x\n",
    "\n"
   ]
  },
  {
   "cell_type": "code",
   "execution_count": 109,
   "metadata": {
    "dotnet_interactive": {
     "language": "fsharp"
    },
    "polyglot_notebook": {
     "kernelName": "fsharp"
    },
    "vscode": {
     "languageId": "polyglot-notebook"
    }
   },
   "outputs": [],
   "source": [
    "//let rec betterAddUp x y = if (maximum x y) = y then x + betterAddUp (x + 1)  y else y + betterAddUp x (y + 1)"
   ]
  },
  {
   "attachments": {},
   "cell_type": "markdown",
   "metadata": {},
   "source": [
    "Tests for `betterAddUp`:"
   ]
  },
  {
   "cell_type": "code",
   "execution_count": 110,
   "metadata": {
    "dotnet_interactive": {
     "language": "fsharp"
    },
    "polyglot_notebook": {
     "kernelName": "fsharp"
    },
    "vscode": {
     "languageId": "polyglot-notebook"
    }
   },
   "outputs": [
    {
     "name": "stdout",
     "output_type": "stream",
     "text": [
      "All tests passed! 🥳\n"
     ]
    }
   ],
   "source": [
    "// Test number     Actual result               Expected result\n",
    "[ 1,               betterAddUp 2 5,            14\n",
    "  2,               betterAddUp 5 2,            14\n",
    "  3,               betterAddUp 0 0,            0\n",
    "  4,               betterAddUp 0 1,            1\n",
    "  5,               betterAddUp 1 0,            1\n",
    "  6,               betterAddUp 2 2,            2\n",
    "  7,               betterAddUp -99 -103,       -505\n",
    "  8,               betterAddUp -103 -99,       -505\n",
    "  9,               betterAddUp 99 -103,        -406\n",
    "  10,              betterAddUp 103 -99,        406\n",
    "]\n",
    "|> List.choose (fun (i, actual, expected) -> if actual = expected then None else Some (i, actual, expected))\n",
    "|> function [] -> printfn \"All tests passed! 🥳\" | xs -> List.iter (fun (i,a,e) -> printfn $\"Test #{i} failed: expected {e}, got {a}\") xs"
   ]
  },
  {
   "attachments": {},
   "cell_type": "markdown",
   "metadata": {},
   "source": [
    "An `evenBetterAddUp` function:"
   ]
  },
  {
   "cell_type": "code",
   "execution_count": 111,
   "metadata": {
    "dotnet_interactive": {
     "language": "fsharp"
    },
    "polyglot_notebook": {
     "kernelName": "fsharp"
    },
    "vscode": {
     "languageId": "polyglot-notebook"
    }
   },
   "outputs": [],
   "source": [
    "\n",
    "let rec evenBetterAddUp x y = \n",
    "    if x < 0 then \n",
    "        evenBetterAddUp (x * -1) y \n",
    "    elif y < 0 then \n",
    "        evenBetterAddUp x (y * -1) \n",
    "    else \n",
    "        betterAddUp x y  "
   ]
  },
  {
   "attachments": {},
   "cell_type": "markdown",
   "metadata": {},
   "source": [
    "Tests for `evenBetterAddUp`:"
   ]
  },
  {
   "cell_type": "code",
   "execution_count": 112,
   "metadata": {
    "dotnet_interactive": {
     "language": "fsharp"
    },
    "vscode": {
     "languageId": "polyglot-notebook"
    }
   },
   "outputs": [
    {
     "name": "stdout",
     "output_type": "stream",
     "text": [
      "All tests passed! 🥳\n"
     ]
    }
   ],
   "source": [
    "// Test number     Actual result                   Expected result\n",
    "[ 1,               evenBetterAddUp 2 5,            14\n",
    "  2,               evenBetterAddUp 5 2,            14\n",
    "  3,               evenBetterAddUp 0 0,            0\n",
    "  4,               evenBetterAddUp 0 1,            1\n",
    "  5,               evenBetterAddUp 1 0,            1\n",
    "  6,               evenBetterAddUp 2 2,            2\n",
    "  7,               evenBetterAddUp -99 -103,       505\n",
    "  8,               evenBetterAddUp -103 -99,       505\n",
    "  9,               evenBetterAddUp 99 -103,        505\n",
    "  10,              evenBetterAddUp 103 -99,        505\n",
    "]\n",
    "|> List.choose (fun (i, actual, expected) -> if actual = expected then None else Some (i, actual, expected))\n",
    "|> function [] -> printfn \"All tests passed! 🥳\" | xs -> List.iter (fun (i,a,e) -> printfn $\"Test #{i} failed: expected {e}, got {a}\") xs"
   ]
  },
  {
   "attachments": {},
   "cell_type": "markdown",
   "metadata": {},
   "source": [
    "A `clockHours` function:"
   ]
  },
  {
   "cell_type": "code",
   "execution_count": 113,
   "metadata": {
    "dotnet_interactive": {
     "language": "fsharp"
    },
    "polyglot_notebook": {
     "kernelName": "fsharp"
    },
    "vscode": {
     "languageId": "polyglot-notebook"
    }
   },
   "outputs": [],
   "source": [
    "// good method but fails to take into concideratoion overflows\n",
    "let clockHours n = \n",
    "    if n = 0 then \n",
    "        12\n",
    "    elif n <= 12 then \n",
    "        n \n",
    "    else\n",
    "        n - 12\n"
   ]
  },
  {
   "attachments": {},
   "cell_type": "markdown",
   "metadata": {},
   "source": [
    "Tests for `clockHours`:"
   ]
  },
  {
   "cell_type": "code",
   "execution_count": 114,
   "metadata": {
    "dotnet_interactive": {
     "language": "fsharp"
    },
    "polyglot_notebook": {
     "kernelName": "fsharp"
    },
    "vscode": {
     "languageId": "polyglot-notebook"
    }
   },
   "outputs": [
    {
     "name": "stdout",
     "output_type": "stream",
     "text": [
      "All tests passed! 🥳\n"
     ]
    }
   ],
   "source": [
    "// Test number     Actual result            Expected result\n",
    "[ 1,               clockHours 0,            12\n",
    "  2,               clockHours 1,            1\n",
    "  3,               clockHours 2,            2\n",
    "  4,               clockHours 3,            3\n",
    "  5,               clockHours 4,            4\n",
    "  6,               clockHours 5,            5\n",
    "  7,               clockHours 6,            6\n",
    "  8,               clockHours 7,            7\n",
    "  9,               clockHours 8,            8\n",
    "  10,              clockHours 9,            9\n",
    "  11,              clockHours 10,           10\n",
    "  12,              clockHours 11,           11\n",
    "  13,              clockHours 12,           12\n",
    "  14,              clockHours 13,           1\n",
    "  15,              clockHours 14,           2\n",
    "  16,              clockHours 15,           3\n",
    "  17,              clockHours 16,           4\n",
    "  18,              clockHours 17,           5\n",
    "  19,              clockHours 18,           6\n",
    "  20,              clockHours 19,           7\n",
    "  21,              clockHours 20,           8\n",
    "  22,              clockHours 21,           9\n",
    "  23,              clockHours 22,           10\n",
    "  24,              clockHours 23,           11\n",
    "  25,              clockHours 24,           12\n",
    "]\n",
    "|> List.choose (fun (i, actual, expected) -> if actual = expected then None else Some (i, actual, expected))\n",
    "|> function [] -> printfn \"All tests passed! 🥳\" | xs -> List.iter (fun (i,a,e) -> printfn $\"Test #{i} failed: expected {e}, got {a}\") xs"
   ]
  },
  {
   "attachments": {},
   "cell_type": "markdown",
   "metadata": {},
   "source": [
    "An `addHours` function:"
   ]
  },
  {
   "cell_type": "code",
   "execution_count": 115,
   "metadata": {
    "dotnet_interactive": {
     "language": "fsharp"
    },
    "polyglot_notebook": {
     "kernelName": "fsharp"
    },
    "vscode": {
     "languageId": "polyglot-notebook"
    }
   },
   "outputs": [],
   "source": [
    "let addHours hour addedHours = ((hour + addedHours) % 24) |> clockHours \n",
    "(* so when using the clockHours function i didnt take into concideration when the is an overflow of hours\n",
    "so by finding the remainder pof those hours by  adding %24 it allows me to be able to find the correct\n",
    "time within the constraints of 24 hours*)"
   ]
  },
  {
   "attachments": {},
   "cell_type": "markdown",
   "metadata": {},
   "source": [
    "Tests for `addHours`:"
   ]
  },
  {
   "cell_type": "code",
   "execution_count": 116,
   "metadata": {
    "dotnet_interactive": {
     "language": "fsharp"
    },
    "polyglot_notebook": {
     "kernelName": "fsharp"
    },
    "vscode": {
     "languageId": "polyglot-notebook"
    }
   },
   "outputs": [
    {
     "name": "stdout",
     "output_type": "stream",
     "text": [
      "All tests passed! 🥳\n"
     ]
    }
   ],
   "source": [
    "// Test number     Actual result            Expected result\n",
    "[ 1,               addHours 0 0,            12\n",
    "  2,               addHours 0 1,            1\n",
    "  3,               addHours 0 24,           12\n",
    "  4,               addHours 24 0,           12\n",
    "  5,               addHours 16 16,          8\n",
    "  6,               addHours 3 8,            11\n",
    "  7,               addHours 9 3,            12\n",
    "  8,               addHours 1 17,           6\n",
    "  9,               addHours 17 200,         1\n",
    "  10,              addHours 8 90210,        2\n",
    "]\n",
    "|> List.choose (fun (i, actual, expected) -> if actual = expected then None else Some (i, actual, expected))\n",
    "|> function [] -> printfn \"All tests passed! 🥳\" | xs -> List.iter (fun (i,a,e) -> printfn $\"Test #{i} failed: expected {e}, got {a}\") xs"
   ]
  },
  {
   "attachments": {},
   "cell_type": "markdown",
   "metadata": {},
   "source": [
    "A `peek` function:"
   ]
  },
  {
   "cell_type": "code",
   "execution_count": 117,
   "metadata": {
    "dotnet_interactive": {
     "language": "fsharp"
    },
    "polyglot_notebook": {
     "kernelName": "fsharp"
    },
    "vscode": {
     "languageId": "polyglot-notebook"
    }
   },
   "outputs": [],
   "source": [
    "let peek digit index =\n",
    "    let len = length <| digit\n",
    "    (digitAt digit index , digitAt digit (len - index - 1) )\n",
    " (*well here we returning a tuple with the first value being the digitAt that specific index\n",
    "    and the second value beingthe same digit but indexed from the right to the left by invoking the reverse index\n",
    "    method (len - index - 1) *)"
   ]
  },
  {
   "attachments": {},
   "cell_type": "markdown",
   "metadata": {},
   "source": [
    "Tests for `peek`:"
   ]
  },
  {
   "cell_type": "code",
   "execution_count": 118,
   "metadata": {
    "dotnet_interactive": {
     "language": "fsharp"
    },
    "polyglot_notebook": {
     "kernelName": "fsharp"
    },
    "vscode": {
     "languageId": "polyglot-notebook"
    }
   },
   "outputs": [
    {
     "name": "stdout",
     "output_type": "stream",
     "text": [
      "All tests passed! 🥳\n"
     ]
    }
   ],
   "source": [
    "// Test number     Actual result            Expected result\n",
    "[ 1,               peek 0 1,                (-1, -1)\n",
    "  2,               peek 3 -1,               (-1, -1)\n",
    "  3,               peek 3 0,                (3, 3)\n",
    "  4,               peek 91237 0,            (9, 7)\n",
    "  5,               peek 91237 1,            (1, 3)\n",
    "  6,               peek 91237 2,            (2, 2)\n",
    "  7,               peek 91237 3,            (3, 1)\n",
    "  8,               peek 91237 4,            (7, 9)\n",
    "  9,               peek 91237 5,            (-1, -1)\n",
    "  10,              peek 1000 2,             (0, 0)\n",
    "  11,              peek 1000 0,             (1, 0)\n",
    "  12,              peek 1000 3,             (0, 1)\n",
    "]\n",
    "|> List.choose (fun (i, actual, expected) -> if actual = expected then None else Some (i, actual, expected))\n",
    "|> function [] -> printfn \"All tests passed! 🥳\" | xs -> List.iter (fun (i,a,e) -> printfn $\"Test #{i} failed: expected {e}, got {a}\") xs"
   ]
  },
  {
   "attachments": {},
   "cell_type": "markdown",
   "metadata": {},
   "source": [
    "A `f` function:"
   ]
  },
  {
   "cell_type": "code",
   "execution_count": 119,
   "metadata": {
    "dotnet_interactive": {
     "language": "fsharp"
    },
    "polyglot_notebook": {
     "kernelName": "fsharp"
    },
    "vscode": {
     "languageId": "polyglot-notebook"
    }
   },
   "outputs": [],
   "source": [
    "let isNatural num = num % 2 = 0  // little helper function to check if input is even, helping me with perfect division of 2\n",
    "let rec f n = \n",
    "    if n = 1 then \n",
    "        0\n",
    "    elif n |> isNatural then    // well i simply just had to check if the digit is even for all even numbers dont have a remainder when divided by 2\n",
    "        1 + f(n/2)\n",
    "    else \n",
    "        1 + f(3 * n + 1) \n"
   ]
  },
  {
   "attachments": {},
   "cell_type": "markdown",
   "metadata": {},
   "source": [
    "Tests for `f`:"
   ]
  },
  {
   "cell_type": "code",
   "execution_count": 120,
   "metadata": {
    "dotnet_interactive": {
     "language": "fsharp"
    },
    "polyglot_notebook": {
     "kernelName": "fsharp"
    },
    "vscode": {
     "languageId": "polyglot-notebook"
    }
   },
   "outputs": [
    {
     "name": "stdout",
     "output_type": "stream",
     "text": [
      "All tests passed! 🥳\n"
     ]
    }
   ],
   "source": [
    "// Test number     Actual result            Expected result\n",
    "[ 1,               f 1,                     0\n",
    "  2,               f 2,                     1\n",
    "  3,               f 3,                     7\n",
    "  4,               f 4,                     2\n",
    "  5,               f 5,                     5\n",
    "  6,               f 6,                     8\n",
    "  7,               f 7,                     16\n",
    "  8,               f 8,                     3\n",
    "  9,               f 90210,                 63\n",
    "  10,              f 23,                    15\n",
    "  11,              f 27,                    111\n",
    "  12,              f 95,                    105\n",
    "]\n",
    "|> List.choose (fun (i, actual, expected) -> if actual = expected then None else Some (i, actual, expected))\n",
    "|> function [] -> printfn \"All tests passed! 🥳\" | xs -> List.iter (fun (i,a,e) -> printfn $\"Test #{i} failed: expected {e}, got {a}\") xs"
   ]
  },
  {
   "attachments": {},
   "cell_type": "markdown",
   "metadata": {},
   "source": [
    "A `numberToHex` function:"
   ]
  },
  {
   "cell_type": "code",
   "execution_count": 121,
   "metadata": {
    "dotnet_interactive": {
     "language": "fsharp"
    },
    "polyglot_notebook": {
     "kernelName": "fsharp"
    },
    "vscode": {
     "languageId": "polyglot-notebook"
    }
   },
   "outputs": [],
   "source": [
    "let rec numberToHex n = \n",
    "    // small helper function to aid me in matching all values\n",
    "    let rec hexadecimal num =\n",
    "        (function    \n",
    "                | 0 -> \"0\" \n",
    "                | 1 -> \"1\" \n",
    "                | 2 -> \"2\" \n",
    "                | 3 -> \"3\" \n",
    "                | 4 -> \"4\" \n",
    "                | 5 -> \"5\" \n",
    "                | 6 -> \"6\" \n",
    "                | 7 -> \"7\" \n",
    "                | 8 -> \"8\" \n",
    "                | 9 -> \"9\" \n",
    "                | 10 -> \"A\" \n",
    "                | 11 -> \"B\" \n",
    "                | 12 -> \"C\" \n",
    "                | 13 -> \"D\" \n",
    "                | 14 -> \"E\" \n",
    "                | 15 -> \"F\" \n",
    "                | _ -> \"\"\n",
    "            )num\n",
    "    \n",
    "    let rec numberToHexHelper digit zeroEncountered =\n",
    "        if digit = 0 && not zeroEncountered then\n",
    "            \"0\"  // If digit is 0 and zeroEncountered is false, return \"0\"\n",
    "        elif digit = 0 && zeroEncountered then\n",
    "            \"\"   // If digit is 0 and zeroEncountered is true, return an empty string\n",
    "        elif digit % 16 = 0 then\n",
    "            numberToHexHelper (digit / 16) (zeroEncountered || digit <> 0) + hexadecimal (digit % 16) \n",
    "            //We use ||  operator to update the zeroEncountered flag when we encounter a non-zero digit.\n",
    "        else\n",
    "            numberToHexHelper (digit / 16) true + hexadecimal (digit % 16)\n",
    "\n",
    "\n",
    "    // helper function initially with zeroEncountered set to false\n",
    "    numberToHexHelper n false\n",
    "\n"
   ]
  },
  {
   "attachments": {},
   "cell_type": "markdown",
   "metadata": {},
   "source": [
    "Tests for `numberToHex`:"
   ]
  },
  {
   "cell_type": "code",
   "execution_count": 122,
   "metadata": {
    "dotnet_interactive": {
     "language": "fsharp"
    },
    "polyglot_notebook": {
     "kernelName": "fsharp"
    },
    "vscode": {
     "languageId": "polyglot-notebook"
    }
   },
   "outputs": [
    {
     "name": "stdout",
     "output_type": "stream",
     "text": [
      "All tests passed! 🥳\n"
     ]
    }
   ],
   "source": [
    "// Test number     Actual result            Expected result\n",
    "[ 1,               numberToHex 1,           \"1\"\n",
    "  2,               numberToHex 0,           \"0\"\n",
    "  3,               numberToHex 323,         \"143\"\n",
    "  4,               numberToHex 1024,        \"400\"\n",
    "  5,               numberToHex 10,          \"A\"\n",
    "  6,               numberToHex 11,          \"B\"\n",
    "  7,               numberToHex 12,          \"C\"\n",
    "  8,               numberToHex 13,          \"D\"\n",
    "  9,               numberToHex 14,          \"E\"\n",
    "  10,              numberToHex 15,          \"F\"\n",
    "  11,              numberToHex 90210,       \"16062\"\n",
    "  12,              numberToHex 18874426,    \"120003A\"\n",
    "  13,              numberToHex 12345678,    \"BC614E\"\n",
    "  14,              numberToHex 1000025,     \"F4259\"\n",
    "]\n",
    "|> List.choose (fun (i, actual, expected) -> if actual = expected then None else Some (i, actual, expected))\n",
    "|> function [] -> printfn \"All tests passed! 🥳\" | xs -> List.iter (fun (i,a,e) -> printfn $\"Test #{i} failed: expected {e}, got {a}\") xs"
   ]
  },
  {
   "attachments": {},
   "cell_type": "markdown",
   "metadata": {},
   "source": [
    "A `numberToBin` function:"
   ]
  },
  {
   "cell_type": "code",
   "execution_count": 123,
   "metadata": {
    "dotnet_interactive": {
     "language": "fsharp"
    },
    "polyglot_notebook": {
     "kernelName": "fsharp"
    },
    "vscode": {
     "languageId": "polyglot-notebook"
    }
   },
   "outputs": [],
   "source": [
    "let numberToBin digit =\n",
    "\n",
    "    let rec numberToBinHelper digit zeroEncountered =\n",
    "        if digit = 0 && not zeroEncountered then\n",
    "            \"0\"  // If digit is 0 and zeroEncountered is false, return \"0\"\n",
    "        elif digit = 0 && zeroEncountered then\n",
    "            \"\"   // If digit is 0 and zeroEncountered is true, return an empty string\n",
    "        elif digit % 2 = 0 then\n",
    "            numberToBinHelper (digit / 2) zeroEncountered + \"0\"\n",
    "        else\n",
    "            numberToBinHelper (digit / 2) true + \"1\"\n",
    "\n",
    "    // helper function initially with zeroEncountered set to false\n",
    "    numberToBinHelper digit false\n",
    "\n",
    "                        "
   ]
  },
  {
   "attachments": {},
   "cell_type": "markdown",
   "metadata": {},
   "source": [
    "Tests for `numberToBin`:"
   ]
  },
  {
   "cell_type": "code",
   "execution_count": 124,
   "metadata": {
    "dotnet_interactive": {
     "language": "fsharp"
    },
    "polyglot_notebook": {
     "kernelName": "fsharp"
    },
    "vscode": {
     "languageId": "polyglot-notebook"
    }
   },
   "outputs": [
    {
     "name": "stdout",
     "output_type": "stream",
     "text": [
      "All tests passed! 🥳\n"
     ]
    }
   ],
   "source": [
    "// Test number     Actual result            Expected result\n",
    "[ 1,               numberToBin 1,           \"1\"\n",
    "  2,               numberToBin 0,           \"0\"\n",
    "  3,               numberToBin 323,         \"101000011\"\n",
    "  4,               numberToBin 1024,        \"10000000000\"\n",
    "  5,               numberToBin 10,          \"1010\"\n",
    "  6,               numberToBin 11,          \"1011\"\n",
    "  7,               numberToBin 12,          \"1100\"\n",
    "  8,               numberToBin 13,          \"1101\"\n",
    "  9,               numberToBin 14,          \"1110\"\n",
    "  10,              numberToBin 15,          \"1111\"\n",
    "  11,              numberToBin 90210,       \"10110000001100010\"\n",
    "  12,              numberToBin 18874426,    \"1001000000000000000111010\"\n",
    "  13,              numberToBin 12345678,    \"101111000110000101001110\"\n",
    "  14,              numberToBin 1000025,     \"11110100001001011001\"\n",
    "]\n",
    "|> List.choose (fun (i, actual, expected) -> if actual = expected then None else Some (i, actual, expected))\n",
    "|> function [] -> printfn \"All tests passed! 🥳\" | xs -> List.iter (fun (i,a,e) -> printfn $\"Test #{i} failed: expected {e}, got {a}\") xs"
   ]
  },
  {
   "cell_type": "code",
   "execution_count": 125,
   "metadata": {
    "dotnet_interactive": {
     "language": "fsharp"
    },
    "polyglot_notebook": {
     "kernelName": "fsharp"
    },
    "vscode": {
     "languageId": "polyglot-notebook"
    }
   },
   "outputs": [
    {
     "data": {
      "text/plain": [
       "Binary = 1110\n",
       "Hexadecimal = E"
      ]
     },
     "metadata": {},
     "output_type": "display_data"
    }
   ],
   "source": [
    "let BinaryAndHex n = \n",
    "    if n < 0 then \n",
    "        \" \"\n",
    "    else\n",
    "        \"Binary = \"  + numberToBin n + \"\\n\" + \"Hexadecimal = \"  + numberToHex n\n",
    "\n",
    "BinaryAndHex 14"
   ]
  },
  {
   "cell_type": "code",
   "execution_count": 126,
   "metadata": {
    "dotnet_interactive": {
     "language": "fsharp"
    },
    "polyglot_notebook": {
     "kernelName": "fsharp"
    },
    "vscode": {
     "languageId": "polyglot-notebook"
    }
   },
   "outputs": [
    {
     "data": {
      "text/html": [
       "<details open=\"open\" class=\"dni-treeview\"><summary><span class=\"dni-code-hint\"><code>(Binary = 1110\\nHexadecimal = E, Binary = 101111000110000101001110\\nHexadecimal = BC614E, Binary = 10110000001100010\\nHexadecimal = 16062, Binary = 101111000110000101001110\\nHexadecimal = BC614E, Binary = 11110100001001011001\\nHexadecimal = F4259, Binary = 101000011\\nHexadecimal = 143)</code></span></summary><div><table><thead><tr></tr></thead><tbody><tr><td>Item1</td><td>Binary = 1110\n",
       "Hexadecimal = E</td></tr><tr><td>Item2</td><td>Binary = 101111000110000101001110\n",
       "Hexadecimal = BC614E</td></tr><tr><td>Item3</td><td>Binary = 10110000001100010\n",
       "Hexadecimal = 16062</td></tr><tr><td>Item4</td><td>Binary = 101111000110000101001110\n",
       "Hexadecimal = BC614E</td></tr><tr><td>Item5</td><td>Binary = 11110100001001011001\n",
       "Hexadecimal = F4259</td></tr><tr><td>Item6</td><td>Binary = 101000011\n",
       "Hexadecimal = 143</td></tr></tbody></table></div></details><style>\r\n",
       ".dni-code-hint {\r\n",
       "    font-style: italic;\r\n",
       "    overflow: hidden;\r\n",
       "    white-space: nowrap;\r\n",
       "}\r\n",
       ".dni-treeview {\r\n",
       "    white-space: nowrap;\r\n",
       "}\r\n",
       ".dni-treeview td {\r\n",
       "    vertical-align: top;\r\n",
       "    text-align: start;\r\n",
       "}\r\n",
       "details.dni-treeview {\r\n",
       "    padding-left: 1em;\r\n",
       "}\r\n",
       "table td {\r\n",
       "    text-align: start;\r\n",
       "}\r\n",
       "table tr { \r\n",
       "    vertical-align: top; \r\n",
       "    margin: 0em 0px;\r\n",
       "}\r\n",
       "table tr td pre \r\n",
       "{ \r\n",
       "    vertical-align: top !important; \r\n",
       "    margin: 0em 0px !important;\r\n",
       "} \r\n",
       "table th {\r\n",
       "    text-align: start;\r\n",
       "}\r\n",
       "</style>"
      ]
     },
     "metadata": {},
     "output_type": "display_data"
    }
   ],
   "source": [
    "(BinaryAndHex 14,\n",
    "BinaryAndHex 12345678,\n",
    "BinaryAndHex 90210,\n",
    "BinaryAndHex 12345678,\n",
    "BinaryAndHex 1000025,\n",
    "BinaryAndHex 323)"
   ]
  },
  {
   "attachments": {},
   "cell_type": "markdown",
   "metadata": {},
   "source": [
    "A `palindrome` function:"
   ]
  },
  {
   "cell_type": "code",
   "execution_count": 127,
   "metadata": {
    "dotnet_interactive": {
     "language": "fsharp"
    },
    "polyglot_notebook": {
     "kernelName": "fsharp"
    },
    "vscode": {
     "languageId": "polyglot-notebook"
    }
   },
   "outputs": [],
   "source": [
    "let palindrome digit  = (digit = reverse digit)\n",
    "\n"
   ]
  },
  {
   "attachments": {},
   "cell_type": "markdown",
   "metadata": {},
   "source": [
    "Tests for `palindrome`:"
   ]
  },
  {
   "cell_type": "code",
   "execution_count": 128,
   "metadata": {
    "dotnet_interactive": {
     "language": "fsharp"
    },
    "polyglot_notebook": {
     "kernelName": "fsharp"
    },
    "vscode": {
     "languageId": "polyglot-notebook"
    }
   },
   "outputs": [
    {
     "name": "stdout",
     "output_type": "stream",
     "text": [
      "All tests passed! 🥳\n"
     ]
    }
   ],
   "source": [
    "// Test number     Actual result            Expected result\n",
    "[ 1,               palindrome 0,            true\n",
    "  2,               palindrome 10,           false\n",
    "  3,               palindrome 101,          true\n",
    "  4,               palindrome 1010,         false\n",
    "  5,               palindrome 1001,         true\n",
    "  6,               palindrome 33,           true\n",
    "  7,               palindrome 10201,        true\n",
    "  8,               palindrome -9322239,     true\n",
    "  9,               palindrome -766367,      false\n",
    "]\n",
    "|> List.choose (fun (i, actual, expected) -> if actual = expected then None else Some (i, actual, expected))\n",
    "|> function [] -> printfn \"All tests passed! 🥳\" | xs -> List.iter (fun (i,a,e) -> printfn $\"Test #{i} failed: expected {e}, got {a}\") xs"
   ]
  }
 ],
 "metadata": {
  "kernelspec": {
   "display_name": ".NET (C#)",
   "language": "C#",
   "name": ".net-csharp"
  },
  "language_info": {
   "name": "python",
   "version": "3.10.13"
  },
  "polyglot_notebook": {
   "kernelInfo": {
    "defaultKernelName": "csharp",
    "items": [
     {
      "aliases": [],
      "name": ".NET"
     },
     {
      "aliases": [
       "C#",
       "c#"
      ],
      "languageName": "C#",
      "name": "csharp"
     },
     {
      "aliases": [
       "F#",
       "f#"
      ],
      "languageName": "F#",
      "name": "fsharp"
     },
     {
      "aliases": [],
      "languageName": "HTML",
      "name": "html"
     },
     {
      "aliases": [],
      "languageName": "KQL",
      "name": "kql"
     },
     {
      "aliases": [],
      "languageName": "Mermaid",
      "name": "mermaid"
     },
     {
      "aliases": [
       "powershell"
      ],
      "languageName": "PowerShell",
      "name": "pwsh"
     },
     {
      "aliases": [],
      "languageName": "SQL",
      "name": "sql"
     },
     {
      "aliases": [],
      "name": "value"
     },
     {
      "aliases": [
       "frontend"
      ],
      "name": "vscode"
     }
    ]
   }
  }
 },
 "nbformat": 4,
 "nbformat_minor": 2
}
